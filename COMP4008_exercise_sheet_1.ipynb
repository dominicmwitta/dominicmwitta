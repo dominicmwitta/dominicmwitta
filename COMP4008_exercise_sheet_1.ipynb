{
  "nbformat": 4,
  "nbformat_minor": 0,
  "metadata": {
    "colab": {
      "provenance": [],
      "include_colab_link": true
    },
    "kernelspec": {
      "name": "python3",
      "display_name": "Python 3"
    },
    "language_info": {
      "name": "python"
    }
  },
  "cells": [
    {
      "cell_type": "markdown",
      "metadata": {
        "id": "view-in-github",
        "colab_type": "text"
      },
      "source": [
        "<a href=\"https://colab.research.google.com/github/dominicmwitta/dominicmwitta/blob/main/COMP4008_exercise_sheet_1.ipynb\" target=\"_parent\"><img src=\"https://colab.research.google.com/assets/colab-badge.svg\" alt=\"Open In Colab\"/></a>"
      ]
    },
    {
      "cell_type": "markdown",
      "source": [
        "**Lab 1 Part 1 (assessed): Preliminary Exercises on Lists and Variables**\n",
        "\n",
        "Here are some introductory exercises on lists and variables. This is the **assessed** part of the sheet. Once you have completed it, you should show your solutions to one of the teachers in the class, either on Wednesday (4th) or Friday (6th).\n",
        "\n",
        "To complete each task, you should fill in the code block that begin with a # symbol, replacing the text that is there with your code. Once you have completed the code, either click the \"play\" symbol to the left of the block, or press shift-return on your keyboard. If there is output from that piece of code, it will then display in a new block underneath the code.\n",
        "\n",
        "The tasks use similar ideas to those demonstrated in the lecture on Monday, so you should have a look at that on Moodle for ideas and inspiration."
      ],
      "metadata": {
        "id": "8DiBzdxqn0Sz"
      }
    },
    {
      "cell_type": "markdown",
      "source": [
        "The following block creates a list of three names"
      ],
      "metadata": {
        "id": "YzOdyWc1n2jE"
      }
    },
    {
      "cell_type": "code",
      "execution_count": null,
      "metadata": {
        "id": "YnzsZIc1nJMn"
      },
      "outputs": [],
      "source": [
        "listOfNames = [\"Kermit the Frog\", \"Fozzie Bear\", \"Beaker\", \"Animal\"]"
      ]
    },
    {
      "cell_type": "markdown",
      "source": [
        "In the next block, write two lines of code, to append the name \"Miss Piggy\" to the list, then to display the list"
      ],
      "metadata": {
        "id": "Me2g1h5eoJAt"
      }
    },
    {
      "cell_type": "code",
      "source": [
        "listOfNames"
      ],
      "metadata": {
        "id": "IqnyQ68woS1U"
      },
      "execution_count": null,
      "outputs": []
    },
    {
      "cell_type": "markdown",
      "source": [
        "The next block contains a definition, *addStudent*, of a function that takes the name of a list, a piece of text containing the student's name, and a number that is their mark in their Maths module, and adds a new item to the list containing those three pieces of information. You do not have to do anything to the code in the next block."
      ],
      "metadata": {
        "id": "N3UxbZphqfZ7"
      }
    },
    {
      "cell_type": "code",
      "source": [
        "def addStudent(listOfStudents, studentName, maths):\n",
        "  listOfStudents.append([studentName,maths])"
      ],
      "metadata": {
        "id": "UVKVktjPqeMD"
      },
      "execution_count": null,
      "outputs": []
    },
    {
      "cell_type": "markdown",
      "source": [
        "In the next block, make a copy of *addStudent* from above and modify it so that in addition to the student's name and maths mark, it also records the student's hall of residence (a string of text), and numbers that represent the student's marks in English and in Programming."
      ],
      "metadata": {
        "id": "gz2Hora_vY_2"
      }
    },
    {
      "cell_type": "code",
      "source": [
        "# replace this comment with a copy of addStudent and modify it"
      ],
      "metadata": {
        "id": "JqorqcLwqeJk"
      },
      "execution_count": null,
      "outputs": []
    },
    {
      "cell_type": "markdown",
      "source": [
        "In the next block, write five lines of code that (1) creates an empty list called *studentRecords* and (2) uses the newly defined *addStudent* function to add the following students to *studentRecords*.\n",
        "\n",
        "| Name              | Residence          | Maths | English | Programming |\n",
        "|-------------------|--------------------|-------|---------|-------------|\n",
        "| Kermit the Frog   | Sherwood Hall      | 65    | 78      | 52          |\n",
        "| Fozzie Bear       | Newark Hall        | 48    | 45      | 42          |\n",
        "| Animal            | Sherwood Hall      | 35    | 68      | 48          |\n",
        "| Miss Piggy        | Melton Hall        | 78    | 75      | 85          |"
      ],
      "metadata": {
        "id": "dtZQVLwvv1sK"
      }
    },
    {
      "cell_type": "code",
      "source": [
        "# replace this comment with your code"
      ],
      "metadata": {
        "id": "LSWz9IKNqeG8"
      },
      "execution_count": null,
      "outputs": []
    },
    {
      "cell_type": "markdown",
      "source": [
        "In the next block, write a line of code that lists just the students who have a mark of 50 or over in Maths"
      ],
      "metadata": {
        "id": "N_GnyJ04xgSJ"
      }
    },
    {
      "cell_type": "code",
      "source": [
        "# replace this comment with your code"
      ],
      "metadata": {
        "id": "omQnILlhqeEd"
      },
      "execution_count": null,
      "outputs": []
    },
    {
      "cell_type": "markdown",
      "source": [
        "In the next block, write a line of code that lists all the students who have a mark under 50 in all of Maths, English and Programming."
      ],
      "metadata": {
        "id": "EIfm8_vryfkg"
      }
    },
    {
      "cell_type": "code",
      "source": [
        "# replace this comment with your code"
      ],
      "metadata": {
        "id": "BufkinZzqeB_"
      },
      "execution_count": null,
      "outputs": []
    },
    {
      "cell_type": "markdown",
      "source": [
        "**This is the end of the assessed part of the worksheet.** Show this to one of the class teachers who will discuss it with you and, if you have completed it successfully, give you your marks. If you are not successful, try again and show it again later in the class or in a future class.\n"
      ],
      "metadata": {
        "id": "qx5qvokSz0_3"
      }
    },
    {
      "cell_type": "markdown",
      "source": [
        "**Lab 1 Part 2 (unassessed): Additional Tasks**\n",
        "\n",
        "If you have completed the above tasks, here are some additional tasks for you to do, in order to extend your knowledge and practice more.\n"
      ],
      "metadata": {
        "id": "7Laks9Yr2Rgd"
      }
    },
    {
      "cell_type": "markdown",
      "source": [
        "In the next block, write a line of code that lists all the students who have a mark under 50 in one or more of Maths, English and Programming. You will need to use the word *or* where you used *and* in the previous block."
      ],
      "metadata": {
        "id": "rU8mdc-6zRw7"
      }
    },
    {
      "cell_type": "code",
      "source": [
        "# replace this comment with your code"
      ],
      "metadata": {
        "id": "StrvSFwQqd_A"
      },
      "execution_count": null,
      "outputs": []
    },
    {
      "cell_type": "markdown",
      "source": [
        "In the next block, write a new version of *addStudent* that checks (1) if any of the marks are below 0 or over 100, and (2) that the residence is one of \"Sherwood Hall\", \"Newark Hall\", or \"Melton Hall\". If any of these conditions are not satisfied, print an error message and don't add the student to the list."
      ],
      "metadata": {
        "id": "8Lq0-vcDzotZ"
      }
    },
    {
      "cell_type": "code",
      "source": [
        "# replace this comment with a copy of addStudent and modify it"
      ],
      "metadata": {
        "id": "3CFcrkJ7qd6m"
      },
      "execution_count": null,
      "outputs": []
    },
    {
      "cell_type": "markdown",
      "source": [
        "In the next block, write code that uses *addStudent* to create a number of examples that tests whether the new version of *addStudent* is working - that is, you should provide a variety of examples, including examples that satisfy the checks, ones with marks below 0 and/or above 100, ones with multiple marks below/above 0/100, ones with a different/mis-spelled residence name, ones where students have scored exactly 0 or 100 (these are called \"edge cases\")."
      ],
      "metadata": {
        "id": "uTJ3e3To4cjR"
      }
    },
    {
      "cell_type": "code",
      "source": [
        "# replace this comment with your code"
      ],
      "metadata": {
        "id": "xQnejhkgQUJ3"
      },
      "execution_count": null,
      "outputs": []
    },
    {
      "cell_type": "markdown",
      "source": [
        "(difficult) In the next block, write code that displays each student and the average of their marks across the three modules"
      ],
      "metadata": {
        "id": "85bvw9MvQSvJ"
      }
    },
    {
      "cell_type": "code",
      "source": [
        "# replace this comment with your code"
      ],
      "metadata": {
        "id": "n1IrwYTjQVZd"
      },
      "execution_count": null,
      "outputs": []
    },
    {
      "cell_type": "markdown",
      "source": [
        "(complicated and long) rewrite *addStudent* so that it works with students taking an arbitrary number of modules, not just the three. Also rewrite the averaging method from the previous block so that it works with this version."
      ],
      "metadata": {
        "id": "GF0oaXSjR3gV"
      }
    },
    {
      "cell_type": "code",
      "source": [],
      "metadata": {
        "id": "Qq0cXeN8SP4a"
      },
      "execution_count": null,
      "outputs": []
    }
  ]
}